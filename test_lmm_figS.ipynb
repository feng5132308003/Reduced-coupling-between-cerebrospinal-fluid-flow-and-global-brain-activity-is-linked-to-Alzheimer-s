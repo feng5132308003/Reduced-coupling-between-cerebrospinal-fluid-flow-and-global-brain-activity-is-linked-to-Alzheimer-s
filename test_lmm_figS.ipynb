{
 "cells": [
  {
   "cell_type": "code",
   "execution_count": 59,
   "metadata": {},
   "outputs": [],
   "source": [
    "rm(list=ls())"
   ]
  },
  {
   "cell_type": "code",
   "execution_count": null,
   "metadata": {},
   "outputs": [],
   "source": []
  },
  {
   "cell_type": "code",
   "execution_count": null,
   "metadata": {},
   "outputs": [],
   "source": []
  },
  {
   "cell_type": "code",
   "execution_count": 2,
   "metadata": {
    "slideshow": {
     "slide_type": "-"
    }
   },
   "outputs": [
    {
     "ename": "NameError",
     "evalue": "name 'library' is not defined",
     "output_type": "error",
     "traceback": [
      "\u001b[0;31m\u001b[0m",
      "\u001b[0;31mNameError\u001b[0mTraceback (most recent call last)",
      "\u001b[0;32m<ipython-input-2-f84fe2b97a21>\u001b[0m in \u001b[0;36m<module>\u001b[0;34m()\u001b[0m\n\u001b[0;32m----> 1\u001b[0;31m \u001b[0mlibrary\u001b[0m\u001b[0;34m(\u001b[0m\u001b[0;34m'lmerTest'\u001b[0m\u001b[0;34m)\u001b[0m\u001b[0;34m\u001b[0m\u001b[0m\n\u001b[0m\u001b[1;32m      2\u001b[0m \u001b[0mlibrary\u001b[0m\u001b[0;34m(\u001b[0m\u001b[0;34m'readxl'\u001b[0m\u001b[0;34m)\u001b[0m\u001b[0;34m\u001b[0m\u001b[0m\n\u001b[1;32m      3\u001b[0m \u001b[0;31m#library('lme4')\u001b[0m\u001b[0;34m\u001b[0m\u001b[0;34m\u001b[0m\u001b[0m\n\u001b[1;32m      4\u001b[0m \u001b[0mlibrary\u001b[0m\u001b[0;34m(\u001b[0m\u001b[0;34m'ggplot2'\u001b[0m\u001b[0;34m)\u001b[0m\u001b[0;34m\u001b[0m\u001b[0m\n\u001b[1;32m      5\u001b[0m \u001b[0mlibrary\u001b[0m\u001b[0;34m(\u001b[0m\u001b[0;34m'xlsx'\u001b[0m\u001b[0;34m)\u001b[0m\u001b[0;34m\u001b[0m\u001b[0m\n",
      "\u001b[0;31mNameError\u001b[0m: name 'library' is not defined"
     ]
    }
   ],
   "source": [
    "library('lmerTest')\n",
    "library('readxl')\n",
    "#library('lme4')\n",
    "library('ggplot2')\n",
    "library('xlsx')"
   ]
  },
  {
   "cell_type": "code",
   "execution_count": 3,
   "metadata": {},
   "outputs": [
    {
     "ename": "NameError",
     "evalue": "name 'read_excel' is not defined",
     "output_type": "error",
     "traceback": [
      "\u001b[0;31m\u001b[0m",
      "\u001b[0;31mNameError\u001b[0mTraceback (most recent call last)",
      "\u001b[0;32m<ipython-input-3-0f60f27b8e12>\u001b[0m in \u001b[0;36m<module>\u001b[0;34m()\u001b[0m\n\u001b[0;32m----> 1\u001b[0;31m \u001b[0mdata\u001b[0m \u001b[0;34m=\u001b[0m \u001b[0mread_excel\u001b[0m\u001b[0;34m(\u001b[0m\u001b[0;34m\"test_lmm.xlsx\"\u001b[0m\u001b[0;34m)\u001b[0m\u001b[0;34m\u001b[0m\u001b[0m\n\u001b[0m",
      "\u001b[0;31mNameError\u001b[0m: name 'read_excel' is not defined"
     ]
    }
   ],
   "source": [
    "data = read_excel(\"test_lmm.xlsx\")"
   ]
  },
  {
   "cell_type": "code",
   "execution_count": 62,
   "metadata": {},
   "outputs": [],
   "source": [
    "names(data)= c('id','session','coupling','age','gender','apoe','disease')"
   ]
  },
  {
   "cell_type": "code",
   "execution_count": 63,
   "metadata": {},
   "outputs": [],
   "source": [
    "data$id = factor(data$id)\n",
    "data$age_c = data$age-mean(data$age)"
   ]
  },
  {
   "cell_type": "code",
   "execution_count": 64,
   "metadata": {},
   "outputs": [],
   "source": [
    "data = data[-18,]"
   ]
  },
  {
   "cell_type": "code",
   "execution_count": 65,
   "metadata": {},
   "outputs": [],
   "source": [
    "options(contrasts = c(\"contr.sum\",\"contr.poly\"))"
   ]
  },
  {
   "cell_type": "code",
   "execution_count": 66,
   "metadata": {},
   "outputs": [
    {
     "data": {
      "text/plain": [
       "Linear mixed model fit by REML. t-tests use Satterthwaite's method [\n",
       "lmerModLmerTest]\n",
       "Formula: coupling ~ as.numeric(age_c) + factor(gender) + (1 | id)\n",
       "   Data: data\n",
       "\n",
       "REML criterion at convergence: -99.5\n",
       "\n",
       "Scaled residuals: \n",
       "     Min       1Q   Median       3Q      Max \n",
       "-2.21413 -0.51247  0.04043  0.58167  1.98812 \n",
       "\n",
       "Random effects:\n",
       " Groups   Name        Variance Std.Dev.\n",
       " id       (Intercept) 0.01075  0.1037  \n",
       " Residual             0.01780  0.1334  \n",
       "Number of obs: 158, groups:  id, 118\n",
       "\n",
       "Fixed effects:\n",
       "                    Estimate Std. Error         df t value Pr(>|t|)    \n",
       "(Intercept)        -0.164159   0.014551  92.750660 -11.281   <2e-16 ***\n",
       "as.numeric(age_c)   0.005714   0.002217 101.258124   2.577   0.0114 *  \n",
       "factor(gender)1     0.033069   0.014584  91.509492   2.268   0.0257 *  \n",
       "---\n",
       "Signif. codes:  0 ‘***’ 0.001 ‘**’ 0.01 ‘*’ 0.05 ‘.’ 0.1 ‘ ’ 1\n",
       "\n",
       "Correlation of Fixed Effects:\n",
       "            (Intr) as.(_)\n",
       "as.nmrc(g_) -0.011       \n",
       "fctr(gndr)1 -0.005  0.068"
      ]
     },
     "metadata": {},
     "output_type": "display_data"
    }
   ],
   "source": [
    "m0 = lmer(coupling ~ as.numeric(age_c)+factor(gender)+(1|id), data = data)\n",
    "summary(m0)"
   ]
  },
  {
   "cell_type": "code",
   "execution_count": 67,
   "metadata": {},
   "outputs": [],
   "source": [
    "rdne = ranef(m0)$id\n",
    "rdne2 = rdne[data$id,]"
   ]
  },
  {
   "cell_type": "code",
   "execution_count": 68,
   "metadata": {},
   "outputs": [],
   "source": [
    "#er = summary(m0)$residual\n",
    "er2 = residuals(m0)\n",
    "er3 = rdne2 +summary(m0)$coefficients[1,1] +er2\n",
    "er4 = summary(m0)$coefficients[1,1] +er2"
   ]
  },
  {
   "cell_type": "code",
   "execution_count": 69,
   "metadata": {},
   "outputs": [
    {
     "data": {
      "text/plain": [
       "Linear mixed model fit by REML. t-tests use Satterthwaite's method [\n",
       "lmerModLmerTest]\n",
       "Formula: er3 ~ as.numeric(disease) + (1 | id)\n",
       "   Data: data\n",
       "\n",
       "REML criterion at convergence: -114.5\n",
       "\n",
       "Scaled residuals: \n",
       "     Min       1Q   Median       3Q      Max \n",
       "-2.13953 -0.50710 -0.04511  0.62328  1.97154 \n",
       "\n",
       "Random effects:\n",
       " Groups   Name        Variance Std.Dev.\n",
       " id       (Intercept) 0.00892  0.09445 \n",
       " Residual             0.01834  0.13544 \n",
       "Number of obs: 158, groups:  id, 118\n",
       "\n",
       "Fixed effects:\n",
       "                    Estimate Std. Error       df t value Pr(>|t|)  \n",
       "(Intercept)         -0.07925    0.04205 91.25095  -1.885   0.0627 .\n",
       "as.numeric(disease) -0.03235    0.01508 89.24953  -2.145   0.0347 *\n",
       "---\n",
       "Signif. codes:  0 ‘***’ 0.001 ‘**’ 0.01 ‘*’ 0.05 ‘.’ 0.1 ‘ ’ 1\n",
       "\n",
       "Correlation of Fixed Effects:\n",
       "            (Intr)\n",
       "as.nmrc(ds) -0.942"
      ]
     },
     "metadata": {},
     "output_type": "display_data"
    }
   ],
   "source": [
    "m1 = lmer(er3 ~ as.numeric(disease)+(1|id), data = data)\n",
    "summary(m1)"
   ]
  },
  {
   "cell_type": "code",
   "execution_count": 70,
   "metadata": {},
   "outputs": [
    {
     "data": {
      "text/plain": [
       "Linear mixed model fit by REML. t-tests use Satterthwaite's method [\n",
       "lmerModLmerTest]\n",
       "Formula: er3 ~ as.numeric(apoe) + (1 | id)\n",
       "   Data: data\n",
       "\n",
       "REML criterion at convergence: -104.1\n",
       "\n",
       "Scaled residuals: \n",
       "     Min       1Q   Median       3Q      Max \n",
       "-2.08726 -0.47549 -0.02313  0.59308  2.16620 \n",
       "\n",
       "Random effects:\n",
       " Groups   Name        Variance Std.Dev.\n",
       " id       (Intercept) 0.0088   0.09381 \n",
       " Residual             0.0194   0.13929 \n",
       "Number of obs: 151, groups:  id, 113\n",
       "\n",
       "Fixed effects:\n",
       "                 Estimate Std. Error       df t value Pr(>|t|)    \n",
       "(Intercept)      -0.18566    0.01862 82.85223  -9.972 7.62e-16 ***\n",
       "as.numeric(apoe)  0.03846    0.02145 68.68876   1.793   0.0774 .  \n",
       "---\n",
       "Signif. codes:  0 ‘***’ 0.001 ‘**’ 0.01 ‘*’ 0.05 ‘.’ 0.1 ‘ ’ 1\n",
       "\n",
       "Correlation of Fixed Effects:\n",
       "            (Intr)\n",
       "as.numrc(p) -0.618"
      ]
     },
     "metadata": {},
     "output_type": "display_data"
    }
   ],
   "source": [
    "m2 = lmer(er3 ~ as.numeric(apoe)+(1|id), data = data)\n",
    "summary(m2)"
   ]
  },
  {
   "cell_type": "code",
   "execution_count": 71,
   "metadata": {},
   "outputs": [],
   "source": [
    "data$coupling_adj_age_gender = er3"
   ]
  },
  {
   "cell_type": "code",
   "execution_count": 73,
   "metadata": {},
   "outputs": [
    {
     "data": {
      "text/plain": [
       "Linear mixed model fit by REML. t-tests use Satterthwaite's method [\n",
       "lmerModLmerTest]\n",
       "Formula: coupling ~ factor(disease) + (1 | id)\n",
       "   Data: data\n",
       "\n",
       "REML criterion at convergence: -95.6\n",
       "\n",
       "Scaled residuals: \n",
       "     Min       1Q   Median       3Q      Max \n",
       "-2.08664 -0.46772  0.04951  0.56631  1.90762 \n",
       "\n",
       "Random effects:\n",
       " Groups   Name        Variance Std.Dev.\n",
       " id       (Intercept) 0.01293  0.1137  \n",
       " Residual             0.01719  0.1311  \n",
       "Number of obs: 158, groups:  id, 118\n",
       "\n",
       "Fixed effects:\n",
       "                   Estimate Std. Error         df t value Pr(>|t|)    \n",
       "(Intercept)       -0.143781   0.021175 126.263194  -6.790 3.92e-10 ***\n",
       "factor(disease)1   0.102658   0.050989 134.258679   2.013   0.0461 *  \n",
       "factor(disease)2  -0.009191   0.025676 116.307588  -0.358   0.7210    \n",
       "factor(disease)3  -0.038820   0.035349 124.547844  -1.098   0.2742    \n",
       "---\n",
       "Signif. codes:  0 ‘***’ 0.001 ‘**’ 0.01 ‘*’ 0.05 ‘.’ 0.1 ‘ ’ 1\n",
       "\n",
       "Correlation of Fixed Effects:\n",
       "            (Intr) fct()1 fct()2\n",
       "factr(dss)1  0.581              \n",
       "factr(dss)2 -0.631 -0.560       \n",
       "factr(dss)3 -0.064 -0.570 -0.063"
      ]
     },
     "metadata": {},
     "output_type": "display_data"
    }
   ],
   "source": [
    "#figure S2: controling for disease condition\n",
    "m3 = lmer(coupling ~ factor(disease)+(1|id), data = data)\n",
    "summary(m3)"
   ]
  },
  {
   "cell_type": "code",
   "execution_count": 74,
   "metadata": {},
   "outputs": [],
   "source": [
    "rdne = ranef(m3)$id\n",
    "rdne2 = rdne[data$id,]\n",
    "er2 = residuals(m3)\n",
    "er3 = rdne2 +summary(m3)$coefficients[1,1] +er2\n",
    "er4 = summary(m3)$coefficients[1,1] +er2"
   ]
  },
  {
   "cell_type": "code",
   "execution_count": 75,
   "metadata": {},
   "outputs": [],
   "source": [
    "data$Coupling_adj_disease = er3"
   ]
  },
  {
   "cell_type": "code",
   "execution_count": 79,
   "metadata": {},
   "outputs": [
    {
     "data": {
      "text/html": [
       "-0.141103521033772"
      ],
      "text/latex": [
       "-0.141103521033772"
      ],
      "text/markdown": [
       "-0.141103521033772"
      ],
      "text/plain": [
       "[1] -0.1411035"
      ]
     },
     "metadata": {},
     "output_type": "display_data"
    }
   ],
   "source": [
    "mean(er3[data$disease==3])"
   ]
  },
  {
   "cell_type": "code",
   "execution_count": 80,
   "metadata": {},
   "outputs": [
    {
     "data": {
      "text/plain": [
       "Linear mixed model fit by REML. t-tests use Satterthwaite's method [\n",
       "lmerModLmerTest]\n",
       "Formula: er3 ~ as.numeric(age_c) + factor(gender) + (1 | id)\n",
       "   Data: data\n",
       "\n",
       "REML criterion at convergence: -103.4\n",
       "\n",
       "Scaled residuals: \n",
       "     Min       1Q   Median       3Q      Max \n",
       "-2.09083 -0.52810 -0.03914  0.58728  1.97764 \n",
       "\n",
       "Random effects:\n",
       " Groups   Name        Variance Std.Dev.\n",
       " id       (Intercept) 0.009463 0.09728 \n",
       " Residual             0.018151 0.13472 \n",
       "Number of obs: 158, groups:  id, 118\n",
       "\n",
       "Fixed effects:\n",
       "                   Estimate Std. Error        df t value Pr(>|t|)    \n",
       "(Intercept)       -0.144347   0.014235 89.512582 -10.140   <2e-16 ***\n",
       "as.numeric(age_c)  0.005118   0.002171 97.403431   2.357   0.0204 *  \n",
       "factor(gender)1    0.031033   0.014264 88.196040   2.176   0.0323 *  \n",
       "---\n",
       "Signif. codes:  0 ‘***’ 0.001 ‘**’ 0.01 ‘*’ 0.05 ‘.’ 0.1 ‘ ’ 1\n",
       "\n",
       "Correlation of Fixed Effects:\n",
       "            (Intr) as.(_)\n",
       "as.nmrc(g_) -0.010       \n",
       "fctr(gndr)1 -0.005  0.065"
      ]
     },
     "metadata": {},
     "output_type": "display_data"
    }
   ],
   "source": [
    "m5 = lmer(er3 ~ as.numeric(age_c)+factor(gender)+(1|id), data = data)\n",
    "summary(m5)"
   ]
  },
  {
   "cell_type": "code",
   "execution_count": 81,
   "metadata": {},
   "outputs": [],
   "source": [
    "rdne = ranef(m5)$id\n",
    "rdne2 = rdne[data$id,]\n",
    "er2 = residuals(m5)\n",
    "er3 = rdne2 +summary(m5)$coefficients[1,1] +er2\n",
    "er4 = summary(m5)$coefficients[1,1] +er2"
   ]
  },
  {
   "cell_type": "code",
   "execution_count": 82,
   "metadata": {},
   "outputs": [
    {
     "data": {
      "text/plain": [
       "Linear mixed model fit by REML. t-tests use Satterthwaite's method [\n",
       "lmerModLmerTest]\n",
       "Formula: er3 ~ as.numeric(apoe) + (1 | id)\n",
       "   Data: data\n",
       "\n",
       "REML criterion at convergence: -106.5\n",
       "\n",
       "Scaled residuals: \n",
       "     Min       1Q   Median       3Q      Max \n",
       "-2.11760 -0.53945 -0.02642  0.63732  2.16078 \n",
       "\n",
       "Random effects:\n",
       " Groups   Name        Variance Std.Dev.\n",
       " id       (Intercept) 0.00756  0.08695 \n",
       " Residual             0.02001  0.14147 \n",
       "Number of obs: 151, groups:  id, 113\n",
       "\n",
       "Fixed effects:\n",
       "                 Estimate Std. Error       df t value Pr(>|t|)    \n",
       "(Intercept)      -0.16015    0.01829 77.90459  -8.755 3.26e-13 ***\n",
       "as.numeric(apoe)  0.02595    0.02104 62.82398   1.234    0.222    \n",
       "---\n",
       "Signif. codes:  0 ‘***’ 0.001 ‘**’ 0.01 ‘*’ 0.05 ‘.’ 0.1 ‘ ’ 1\n",
       "\n",
       "Correlation of Fixed Effects:\n",
       "            (Intr)\n",
       "as.numrc(p) -0.618"
      ]
     },
     "metadata": {},
     "output_type": "display_data"
    }
   ],
   "source": [
    "m6 = lmer(er3 ~ as.numeric(apoe)+(1|id), data = data)\n",
    "summary(m6)"
   ]
  },
  {
   "cell_type": "code",
   "execution_count": 83,
   "metadata": {},
   "outputs": [],
   "source": [
    "data$coupling_adj_disease_age_gender = er3"
   ]
  },
  {
   "cell_type": "code",
   "execution_count": 84,
   "metadata": {},
   "outputs": [],
   "source": [
    "write.xlsx(data, \"./test_lmm_new.xlsx\")"
   ]
  },
  {
   "cell_type": "code",
   "execution_count": null,
   "metadata": {},
   "outputs": [],
   "source": []
  }
 ],
 "metadata": {
  "kernelspec": {
   "display_name": "Python 3",
   "language": "python",
   "name": "python3"
  },
  "language_info": {
   "codemirror_mode": {
    "name": "ipython",
    "version": 3
   },
   "file_extension": ".py",
   "mimetype": "text/x-python",
   "name": "python",
   "nbconvert_exporter": "python",
   "pygments_lexer": "ipython3",
   "version": "3.8.3"
  }
 },
 "nbformat": 4,
 "nbformat_minor": 4
}
